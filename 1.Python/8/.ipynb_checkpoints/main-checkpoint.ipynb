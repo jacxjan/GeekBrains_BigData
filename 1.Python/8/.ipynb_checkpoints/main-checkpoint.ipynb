{
 "cells": [
  {
   "cell_type": "markdown",
   "metadata": {},
   "source": [
    "# 1. Реализовать класс «Дата», функция-конструктор которого должна принимать дату в виде строки формата «день-месяц-год». В рамках класса реализовать два метода. Первый, с декоратором @classmethod, должен извлекать число, месяц, год и преобразовывать их тип к типу «Число». Второй, с декоратором @staticmethod, должен проводить валидацию числа, месяца и года (например, месяц — от 1 до 12). Проверить работу полученной структуры на реальных данных."
   ]
  },
  {
   "cell_type": "code",
   "execution_count": 61,
   "metadata": {},
   "outputs": [],
   "source": [
    "class Dat():\n",
    "    def __init__(self,date_str):\n",
    "        Dat.dt = date_str\n",
    "    @classmethod\n",
    "    def str_to_dat(cls):\n",
    "        return int(cls.dt.split(\"-\")[0]),int(cls.dt.split(\"-\")[1]),int(cls.dt.split(\"-\")[2])\n",
    "    @staticmethod\n",
    "    def valid (date_):\n",
    "        y=date_[0]\n",
    "        m=date_[1]\n",
    "        d=date_[2]\n",
    "        if (d>31) or (d<0):\n",
    "            print(d)\n",
    "            print(\"Не корректная дата\")\n",
    "        if (m>12) or (m<0):\n",
    "            print(m)\n",
    "            print(\"Не корректная дата\")\n",
    "        if (y<0):\n",
    "            print(y)\n",
    "            print(\"Не корректная дата\")"
   ]
  },
  {
   "cell_type": "code",
   "execution_count": 62,
   "metadata": {},
   "outputs": [],
   "source": [
    "d=Dat(\"2020-16-13\")"
   ]
  },
  {
   "cell_type": "code",
   "execution_count": 63,
   "metadata": {},
   "outputs": [
    {
     "data": {
      "text/plain": [
       "(2020, 16, 13)"
      ]
     },
     "execution_count": 63,
     "metadata": {},
     "output_type": "execute_result"
    }
   ],
   "source": [
    "d.str_to_dat()"
   ]
  },
  {
   "cell_type": "code",
   "execution_count": 64,
   "metadata": {},
   "outputs": [
    {
     "name": "stdout",
     "output_type": "stream",
     "text": [
      "16\n",
      "Не корректная дата\n"
     ]
    }
   ],
   "source": [
    "d.valid(d.str_to_dat())"
   ]
  },
  {
   "cell_type": "markdown",
   "metadata": {},
   "source": [
    "# 2. Создайте собственный класс-исключение, обрабатывающий ситуацию деления на нуль. Проверьте его работу на данных, вводимых пользователем. При вводе пользователем нуля в качестве делителя программа должна корректно обработать эту ситуацию и не завершиться с ошибкой."
   ]
  },
  {
   "cell_type": "code",
   "execution_count": 79,
   "metadata": {},
   "outputs": [
    {
     "name": "stdout",
     "output_type": "stream",
     "text": [
      "Введите положительное число: 22\n",
      "Введите положительное число: 0\n",
      "Делитель 0\n",
      "Программа завершена\n"
     ]
    }
   ],
   "source": [
    "class OwnError(Exception):\n",
    "    def __init__(self, txt):\n",
    "        self.txt = txt\n",
    "\n",
    "delim = float(input(\"Введите положительное число: \"))\n",
    "delit = float(input(\"Введите положительное число: \"))\n",
    "\n",
    "try:\n",
    "    if delit == 0:\n",
    "        raise OwnError(\"Делитель 0\")\n",
    "    res = delim/delit\n",
    "    print(f\"Все хорошо. Результат - {res}\")\n",
    "except OwnError as err:\n",
    "    print(err)\n",
    "finally:\n",
    "    print(\"Программа завершена\")\n",
    "\n",
    "\n"
   ]
  },
  {
   "cell_type": "markdown",
   "metadata": {},
   "source": [
    "# 3. Создайте собственный класс-исключение, который должен проверять содержимое списка на наличие только чисел. Проверить работу исключения на реальном примере. Необходимо запрашивать у пользователя данные и заполнять список. Класс-исключение должен контролировать типы данных элементов списка.\n",
    "Примечание: длина списка не фиксирована. Элементы запрашиваются бесконечно, пока пользователь сам не остановит работу скрипта, введя, например, команду “stop”. При этом скрипт завершается, сформированный список выводится на экран.\n",
    "Подсказка: для данного задания примем, что пользователь может вводить только числа и строки. При вводе пользователем очередного элемента необходимо реализовать проверку типа элемента и вносить его в список, только если введено число. Класс-исключение должен не позволить пользователю ввести текст (не число) и отобразить соответствующее сообщение. При этом работа скрипта не должна завершаться."
   ]
  },
  {
   "cell_type": "code",
   "execution_count": 2,
   "metadata": {},
   "outputs": [
    {
     "name": "stdout",
     "output_type": "stream",
     "text": [
      "Введи число 2\n",
      "Введи число 3\n",
      "Введи число f\n",
      "Это не число\n",
      "Введи число a\n",
      "Это не число\n",
      "Введи число g\n",
      "Это не число\n",
      "Введи число stop\n"
     ]
    }
   ],
   "source": [
    "class OwnError(Exception):\n",
    "    def __init__(self, txt):\n",
    "        self.txt = txt\n",
    "sps=[]\n",
    "while 2>1:\n",
    "    ss=input(\"Введи число \")\n",
    "    if ss == \"stop\":\n",
    "        break\n",
    "    try:\n",
    "        if (ord(ss)>=48 and ord(ss)<=57):\n",
    "            sps.append(ss)\n",
    "        else:\n",
    "            raise OwnError(\"Это не число\")\n",
    "    except OwnError as err:\n",
    "        print(err)"
   ]
  },
  {
   "cell_type": "markdown",
   "metadata": {},
   "source": [
    "# 4. Начните работу над проектом «Склад оргтехники». Создайте класс, описывающий склад. А также класс «Оргтехника», который будет базовым для классов-наследников. Эти классы — конкретные типы оргтехники (принтер, сканер, ксерокс). В базовом классе определить параметры, общие для приведенных типов. В классах-наследниках реализовать параметры, уникальные для каждого типа оргтехники.\n",
    "# 5. Продолжить работу над первым заданием. Разработать методы, отвечающие за приём оргтехники на склад и передачу в определенное подразделение компании. Для хранения данных о наименовании и количестве единиц оргтехники, а также других данных, можно использовать любую подходящую структуру, например словарь.\n",
    "\n",
    "# 6. Продолжить работу над вторым заданием. Реализуйте механизм валидации вводимых пользователем данных. Например, для указания количества принтеров, отправленных на склад, нельзя использовать строковый тип данных."
   ]
  },
  {
   "cell_type": "code",
   "execution_count": 47,
   "metadata": {},
   "outputs": [],
   "source": [
    "class org_tech():\n",
    "    def __init__(self,wes):\n",
    "        self.wes=wes\n",
    "        self.rasp_str=0\n",
    "        self.count=0\n",
    "        print(\"Класс оргтехники\")\n",
    "    def priem(self,c):\n",
    "        try:\n",
    "            self.count+=c\n",
    "            print(\"Технику приняли\")\n",
    "        except:\n",
    "            print(\"Не корректный ввод\")\n",
    "    def otdal(self,c):\n",
    "        try:\n",
    "            if (self.count-c)>=0:\n",
    "                self.count-=c\n",
    "                print(\"Технику отправили\")\n",
    "            else:\n",
    "                print(\"Техники больше нет\")\n",
    "        except:\n",
    "            print(\"Не корректный ввод\")\n",
    "           \n",
    "        "
   ]
  },
  {
   "cell_type": "code",
   "execution_count": 48,
   "metadata": {},
   "outputs": [],
   "source": [
    "class printer(org_tech):\n",
    "    def __init__(self,wes):\n",
    "        org_tech.__init__(self,wes)\n",
    "        print(\"Класс принтер\")"
   ]
  },
  {
   "cell_type": "code",
   "execution_count": 49,
   "metadata": {},
   "outputs": [],
   "source": [
    "class scaner(org_tech):\n",
    "    def __init__(self,wes):\n",
    "        org_tech.__init__(self,wes)\n",
    "        print(\"Класс сканер\")"
   ]
  },
  {
   "cell_type": "code",
   "execution_count": 50,
   "metadata": {},
   "outputs": [],
   "source": [
    "class xerox(org_tech):\n",
    "    def __init__(self,wes):\n",
    "        org_tech.__init__(self,wes)\n",
    "        print(\"Класс ксерокс\")"
   ]
  },
  {
   "cell_type": "code",
   "execution_count": 51,
   "metadata": {},
   "outputs": [
    {
     "name": "stdout",
     "output_type": "stream",
     "text": [
      "Класс оргтехники\n",
      "Класс ксерокс\n"
     ]
    }
   ],
   "source": [
    "a=xerox(3)"
   ]
  },
  {
   "cell_type": "code",
   "execution_count": 52,
   "metadata": {},
   "outputs": [
    {
     "data": {
      "text/plain": [
       "3"
      ]
     },
     "execution_count": 52,
     "metadata": {},
     "output_type": "execute_result"
    }
   ],
   "source": [
    "a.wes"
   ]
  },
  {
   "cell_type": "code",
   "execution_count": 53,
   "metadata": {},
   "outputs": [
    {
     "name": "stdout",
     "output_type": "stream",
     "text": [
      "Технику приняли\n"
     ]
    }
   ],
   "source": [
    "a.priem(4)"
   ]
  },
  {
   "cell_type": "code",
   "execution_count": 54,
   "metadata": {},
   "outputs": [
    {
     "name": "stdout",
     "output_type": "stream",
     "text": [
      "Не корректный ввод\n"
     ]
    }
   ],
   "source": [
    "a.otdal(\"3\")"
   ]
  },
  {
   "cell_type": "markdown",
   "metadata": {},
   "source": [
    "# 7. Реализовать проект «Операции с комплексными числами». Создайте класс «Комплексное число», реализуйте перегрузку методов сложения и умножения комплексных чисел. Проверьте работу проекта, создав экземпляры класса (комплексные числа) и выполнив сложение и умножение созданных экземпляров. Проверьте корректность полученного результата."
   ]
  },
  {
   "cell_type": "code",
   "execution_count": 65,
   "metadata": {},
   "outputs": [],
   "source": [
    "class Complex():\n",
    "    def __init__(self,x,y):\n",
    "        self.x=x\n",
    "        self.y=y\n",
    "    def __add__(self,other):\n",
    "        return Complex(self.x+other.x,self.y+other.y)\n",
    "    def __mul__(self,other):\n",
    "        return Complex(self.x*other.x-self.y*other.y,self.x*other.y+self.y*other.x)"
   ]
  },
  {
   "cell_type": "code",
   "execution_count": 66,
   "metadata": {},
   "outputs": [],
   "source": [
    "a=Complex(2,1)"
   ]
  },
  {
   "cell_type": "code",
   "execution_count": 67,
   "metadata": {},
   "outputs": [],
   "source": [
    "b=Complex(2,-1)"
   ]
  },
  {
   "cell_type": "code",
   "execution_count": 68,
   "metadata": {},
   "outputs": [],
   "source": [
    "c=a*b"
   ]
  },
  {
   "cell_type": "code",
   "execution_count": 71,
   "metadata": {},
   "outputs": [
    {
     "data": {
      "text/plain": [
       "0"
      ]
     },
     "execution_count": 71,
     "metadata": {},
     "output_type": "execute_result"
    }
   ],
   "source": [
    "c.y"
   ]
  },
  {
   "cell_type": "code",
   "execution_count": null,
   "metadata": {},
   "outputs": [],
   "source": []
  }
 ],
 "metadata": {
  "kernelspec": {
   "display_name": "Python 3",
   "language": "python",
   "name": "python3"
  },
  "language_info": {
   "codemirror_mode": {
    "name": "ipython",
    "version": 3
   },
   "file_extension": ".py",
   "mimetype": "text/x-python",
   "name": "python",
   "nbconvert_exporter": "python",
   "pygments_lexer": "ipython3",
   "version": "3.8.3"
  }
 },
 "nbformat": 4,
 "nbformat_minor": 4
}
