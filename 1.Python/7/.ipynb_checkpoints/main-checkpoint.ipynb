{
 "cells": [
  {
   "cell_type": "markdown",
   "metadata": {},
   "source": [
    "# 1. Реализовать класс Matrix (матрица). Обеспечить перегрузку конструктора класса (метод __init__()), который должен принимать данные (список списков) для формирования матрицы.\n",
    "Подсказка: матрица — система некоторых математических величин, расположенных в виде прямоугольной схемы.\n",
    "Примеры матриц вы найдете в методичке.\n",
    "# Следующий шаг — реализовать перегрузку метода __str__() для вывода матрицы в привычном виде.\n",
    "# Далее реализовать перегрузку метода __add__() для реализации операции сложения двух объектов класса Matrix (двух матриц). Результатом сложения должна быть новая матрица.\n",
    "Подсказка: сложение элементов матриц выполнять поэлементно — первый элемент первой строки первой матрицы складываем с первым элементом первой строки второй матрицы и т.д."
   ]
  },
  {
   "cell_type": "code",
   "execution_count": 16,
   "metadata": {},
   "outputs": [],
   "source": [
    "class Matrix ():\n",
    "    def __init__ (self,M):\n",
    "        self.M=M\n",
    "    def __add__(self,other):\n",
    "        result=self.M\n",
    "        for i in range(len(self.M)): \n",
    "            for j in range(len(self.M[0])): \n",
    "                result[i][j] = self.M[i][j] + other.M[i][j]\n",
    "        return Matrix(result)"
   ]
  },
  {
   "cell_type": "code",
   "execution_count": 23,
   "metadata": {},
   "outputs": [],
   "source": [
    "A=Matrix([[1,2],[3,4]])"
   ]
  },
  {
   "cell_type": "code",
   "execution_count": 24,
   "metadata": {},
   "outputs": [],
   "source": [
    "B=Matrix([[1,2],[3,4]])"
   ]
  },
  {
   "cell_type": "code",
   "execution_count": 25,
   "metadata": {},
   "outputs": [],
   "source": [
    "C=A+B"
   ]
  },
  {
   "cell_type": "markdown",
   "metadata": {},
   "source": [
    "# 2. Реализовать проект расчета суммарного расхода ткани на производство одежды. Основная сущность (класс) этого проекта — одежда, которая может иметь определенное название. К типам одежды в этом проекте относятся пальто и костюм. У этих типов одежды существуют параметры: размер (для пальто) и рост (для костюма). Это могут быть обычные числа: V и H, соответственно.\n",
    "Для определения расхода ткани по каждому типу одежды использовать формулы: для пальто (V/6.5 + 0.5), для костюма (2 * H + 0.3). Проверить работу этих методов на реальных данных.\n",
    "Реализовать общий подсчет расхода ткани. Проверить на практике полученные на этом уроке знания: реализовать абстрактные классы для основных классов проекта, проверить на практике работу декоратора @property."
   ]
  },
  {
   "cell_type": "code",
   "execution_count": 34,
   "metadata": {},
   "outputs": [],
   "source": [
    "from abc import ABC, abstractmethod\n",
    "class weah():\n",
    "    def __init__(self,p):\n",
    "        self.p=p\n",
    "    def __add__(self,other):\n",
    "        return self.p+self.p\n",
    "    @property\n",
    "    @abstractmethod\n",
    "    def set_cons(self):\n",
    "        pass\n",
    "class cost():\n",
    "    def __init__(self,p):\n",
    "        self.p=p\n",
    "    @property\n",
    "    def set_cons(self):\n",
    "        return self.p*2+0.3\n",
    "class palt():\n",
    "    def __init__(self,p):\n",
    "        self.p=p\n",
    "    @property\n",
    "    def set_cons(self):\n",
    "        return self.p/6.5+0.5\n",
    "        "
   ]
  },
  {
   "cell_type": "code",
   "execution_count": 35,
   "metadata": {},
   "outputs": [],
   "source": [
    "p1=palt(3)"
   ]
  },
  {
   "cell_type": "code",
   "execution_count": 36,
   "metadata": {},
   "outputs": [],
   "source": [
    "c1=cost(6)"
   ]
  },
  {
   "cell_type": "code",
   "execution_count": 40,
   "metadata": {},
   "outputs": [],
   "source": [
    "p3=palt(4)"
   ]
  },
  {
   "cell_type": "code",
   "execution_count": 41,
   "metadata": {},
   "outputs": [
    {
     "data": {
      "text/plain": [
       "14.376923076923077"
      ]
     },
     "execution_count": 41,
     "metadata": {},
     "output_type": "execute_result"
    }
   ],
   "source": [
    "p1.set_cons+c1.set_cons+p3.set_cons"
   ]
  },
  {
   "cell_type": "markdown",
   "metadata": {},
   "source": [
    "# 3. Реализовать программу работы с органическими клетками. Необходимо создать класс Клетка. В его конструкторе инициализировать параметр, соответствующий количеству клеток (целое число). В классе должны быть реализованы методы перегрузки арифметических операторов: сложение (__add__()), вычитание (__sub__()), умножение (__mul__()), деление (__truediv__()).Данные методы должны применяться только к клеткам и выполнять увеличение, уменьшение, умножение и обычное (не целочисленное) деление клеток, соответственно. В методе деления должно осуществляться округление значения до целого числа.\n",
    "Сложение. Объединение двух клеток. При этом число ячеек общей клетки должно равняться сумме ячеек исходных двух клеток.\n",
    "Вычитание. Участвуют две клетки. Операцию необходимо выполнять только если разность количества ячеек двух клеток больше нуля, иначе выводить соответствующее сообщение.\n",
    "Умножение. Создается общая клетка из двух. Число ячеек общей клетки определяется как произведение количества ячеек этих двух клеток.\n",
    "Деление. Создается общая клетка из двух. Число ячеек общей клетки определяется как целочисленное деление количества ячеек этих двух клеток.\n",
    "В классе необходимо реализовать метод make_order(), принимающий экземпляр класса и количество ячеек в ряду. Данный метод позволяет организовать ячейки по рядам.\n",
    "Метод должен возвращать строку вида *****\\n*****\\n*****..., где количество ячеек между \\n равно переданному аргументу. Если ячеек на формирование ряда не хватает, то в последний ряд записываются все оставшиеся.\n",
    "Например, количество ячеек клетки равняется 12, количество ячеек в ряду — 5. Тогда метод make_order() вернет строку: *****\\n*****\\n**.\n",
    "Или, количество ячеек клетки равняется 15, количество ячеек в ряду — 5. Тогда метод make_order() вернет строку: *****\\n*****\\n*****.\n",
    "Подсказка: подробный список операторов для перегрузки доступен по ссылке."
   ]
  },
  {
   "cell_type": "code",
   "execution_count": 69,
   "metadata": {},
   "outputs": [],
   "source": [
    "class cell():\n",
    "    def __init__(self,k):\n",
    "        self.k=k\n",
    "    def __add__(self,other):\n",
    "        return cell(self.k+other.k)\n",
    "    def __sub__(self,other):\n",
    "        if self.k-other.k > 0:\n",
    "            return cell(self.k-other.k)\n",
    "        else : \n",
    "            print(\"Ууупс, уменьшаемое меньше вычитаемого\")\n",
    "    def __mul__(self,other):\n",
    "        return cell(self.k*other.k)\n",
    "    def __truediv__(self,other):\n",
    "        return cell(round(self.k/other.k))\n",
    "    def make_order(self,n):\n",
    "        str_=\"\"\n",
    "        for i in range (self.k//n):\n",
    "            str_+=n*\"*\"\n",
    "            str_+=\"\\n\"\n",
    "        str_+=(self.k%n)*\"*\"\n",
    "        print(str_)"
   ]
  },
  {
   "cell_type": "code",
   "execution_count": 70,
   "metadata": {},
   "outputs": [],
   "source": [
    "a=cell(10)\n",
    "b=cell(5) "
   ]
  },
  {
   "cell_type": "code",
   "execution_count": 71,
   "metadata": {},
   "outputs": [],
   "source": [
    "c=a-b"
   ]
  },
  {
   "cell_type": "code",
   "execution_count": 72,
   "metadata": {},
   "outputs": [
    {
     "name": "stdout",
     "output_type": "stream",
     "text": [
      "****\n",
      "****\n",
      "**\n"
     ]
    }
   ],
   "source": [
    "a.make_order(4)"
   ]
  }
 ],
 "metadata": {
  "kernelspec": {
   "display_name": "Python 3",
   "language": "python",
   "name": "python3"
  },
  "language_info": {
   "codemirror_mode": {
    "name": "ipython",
    "version": 3
   },
   "file_extension": ".py",
   "mimetype": "text/x-python",
   "name": "python",
   "nbconvert_exporter": "python",
   "pygments_lexer": "ipython3",
   "version": "3.8.3"
  }
 },
 "nbformat": 4,
 "nbformat_minor": 4
}
