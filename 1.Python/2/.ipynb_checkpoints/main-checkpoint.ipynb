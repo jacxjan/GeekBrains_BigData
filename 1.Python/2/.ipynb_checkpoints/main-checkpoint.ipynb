{
 "cells": [
  {
   "cell_type": "markdown",
   "metadata": {},
   "source": [
    "# 1. Создать список и заполнить его элементами различных типов данных. Реализовать скрипт проверки типа данных каждого элемента. Использовать функцию type() для проверки типа. Элементы списка можно не запрашивать у пользователя, а указать явно, в программе."
   ]
  },
  {
   "cell_type": "code",
   "execution_count": 1,
   "metadata": {},
   "outputs": [],
   "source": [
    "lst=[]"
   ]
  },
  {
   "cell_type": "code",
   "execution_count": 2,
   "metadata": {},
   "outputs": [],
   "source": [
    "lst.append(1)\n",
    "lst.append(\"2\")\n",
    "lst.append(\"fsdgfd\")"
   ]
  },
  {
   "cell_type": "code",
   "execution_count": 6,
   "metadata": {},
   "outputs": [
    {
     "name": "stdout",
     "output_type": "stream",
     "text": [
      "1 -> <class 'int'>\n",
      "2 -> <class 'str'>\n",
      "fsdgfd -> <class 'str'>\n"
     ]
    }
   ],
   "source": [
    "for i in lst:\n",
    "    print(str(i)+\" -> \"+str(type(i)))"
   ]
  },
  {
   "cell_type": "markdown",
   "metadata": {},
   "source": [
    "# 2. Для списка реализовать обмен значений соседних элементов, т.е. Значениями обмениваются элементы с индексами 0 и 1, 2 и 3 и т.д. При нечетном количестве элементов последний сохранить на своем месте. Для заполнения списка элементов необходимо использовать функцию input()."
   ]
  },
  {
   "cell_type": "code",
   "execution_count": 24,
   "metadata": {},
   "outputs": [
    {
     "name": "stdout",
     "output_type": "stream",
     "text": [
      "Введи элемент списка. Если достаточно введе 'stop'124\n",
      "Введи элемент списка. Если достаточно введе 'stop'rewfd\n",
      "Введи элемент списка. Если достаточно введе 'stop'aFSDANGDSGN\n",
      "Введи элемент списка. Если достаточно введе 'stop'ASDGHSDGDCCSD\n",
      "Введи элемент списка. Если достаточно введе 'stop'CDS\n",
      "Введи элемент списка. Если достаточно введе 'stop'C\n",
      "Введи элемент списка. Если достаточно введе 'stop'DSC\n",
      "Введи элемент списка. Если достаточно введе 'stop'SDC\n",
      "Введи элемент списка. Если достаточно введе 'stop'SD\n",
      "Введи элемент списка. Если достаточно введе 'stop'CDS\n",
      "Введи элемент списка. Если достаточно введе 'stop'CDS\n",
      "Введи элемент списка. Если достаточно введе 'stop'CDS\n",
      "Введи элемент списка. Если достаточно введе 'stop'CSD\n",
      "Введи элемент списка. Если достаточно введе 'stop'SAFASDGDS\n",
      "Введи элемент списка. Если достаточно введе 'stop'GFDG\n",
      "Введи элемент списка. Если достаточно введе 'stop'stop\n"
     ]
    },
    {
     "data": {
      "text/plain": [
       "['rewfd',\n",
       " '124',\n",
       " 'ASDGHSDGDCCSD',\n",
       " 'aFSDANGDSGN',\n",
       " 'C',\n",
       " 'CDS',\n",
       " 'SDC',\n",
       " 'DSC',\n",
       " 'CDS',\n",
       " 'SD',\n",
       " 'CDS',\n",
       " 'CDS',\n",
       " 'SAFASDGDS',\n",
       " 'CSD',\n",
       " 'GFDG']"
      ]
     },
     "execution_count": 24,
     "metadata": {},
     "output_type": "execute_result"
    }
   ],
   "source": [
    "buf=0\n",
    "lst=[]\n",
    "while 2>1:\n",
    "    buf=input(\"Введи элемент списка. Если достаточно введи 'stop'\")\n",
    "    if buf==\"stop\":\n",
    "        break\n",
    "    else:\n",
    "        lst.append(buf)   \n",
    "for i in range(0,len(lst),2):\n",
    "    try:\n",
    "        buf=lst[i]\n",
    "        lst[i]=lst[i+1]\n",
    "        lst[i+1]=buf\n",
    "    except:\n",
    "        break\n",
    "lst"
   ]
  },
  {
   "cell_type": "markdown",
   "metadata": {},
   "source": [
    "# 3. Пользователь вводит месяц в виде целого числа от 1 до 12. Сообщить к какому времени года относится месяц (зима, весна, лето, осень). Напишите решения через list и через dict."
   ]
  },
  {
   "cell_type": "code",
   "execution_count": 26,
   "metadata": {},
   "outputs": [],
   "source": [
    "zim=[12,1,2]\n",
    "vesn=[3,4,5]\n",
    "let=[6,7,8]\n",
    "osen=[9,10,11]"
   ]
  },
  {
   "cell_type": "code",
   "execution_count": 28,
   "metadata": {},
   "outputs": [
    {
     "name": "stdout",
     "output_type": "stream",
     "text": [
      "Введи месяц   1\n"
     ]
    }
   ],
   "source": [
    "m=int(input(\"Введи месяц   \"))"
   ]
  },
  {
   "cell_type": "code",
   "execution_count": 29,
   "metadata": {},
   "outputs": [
    {
     "name": "stdout",
     "output_type": "stream",
     "text": [
      "зима\n"
     ]
    }
   ],
   "source": [
    "if m in zim:\n",
    "    print(\"зима\")\n",
    "elif m in vesn:\n",
    "    print(\"весна\")\n",
    "elif m in let:\n",
    "    print(\"лето\")\n",
    "elif m in osen:\n",
    "    print(\"осень\")\n"
   ]
  },
  {
   "cell_type": "code",
   "execution_count": 39,
   "metadata": {},
   "outputs": [
    {
     "name": "stdout",
     "output_type": "stream",
     "text": [
      "зима\n"
     ]
    }
   ],
   "source": [
    "dic={\"зима\":zim,\"весна\":vesn,\"лето\":let,\"осень\":osen}\n",
    "for i in dic:\n",
    "    if m in dic[i]:\n",
    "            print(i)"
   ]
  },
  {
   "cell_type": "markdown",
   "metadata": {},
   "source": [
    "# 4. Пользователь вводит строку из нескольких слов, разделённых пробелами. Вывести каждое слово с новой строки. Строки необходимо пронумеровать. Если в слово длинное, выводить только первые 10 букв в слове."
   ]
  },
  {
   "cell_type": "code",
   "execution_count": 1,
   "metadata": {},
   "outputs": [
    {
     "name": "stdout",
     "output_type": "stream",
     "text": [
      "Введи фразу c пробелами  4see gdfgdf\n",
      "0     4see\n",
      "1     gdfgdf\n"
     ]
    }
   ],
   "source": [
    "string=input(\"Введи фразу c пробелами  \")\n",
    "c=0\n",
    "for i in string.split(\" \"):\n",
    "    print(c,\"   \",i[:10])\n",
    "    c+=1"
   ]
  },
  {
   "cell_type": "markdown",
   "metadata": {},
   "source": [
    "# 5. Реализовать структуру «Рейтинг», представляющую собой не возрастающий набор натуральных чисел. У пользователя необходимо запрашивать новый элемент рейтинга. Если в рейтинге существуют элементы с одинаковыми значениями, то новый элемент с тем же значением должен разместиться после них.\n",
    "Подсказка. Например, набор натуральных чисел: 7, 5, 3, 3, 2.\n",
    "Пользователь ввел число 3. Результат: 7, 5, 3, 3, 3, 2.\n",
    "Пользователь ввел число 8. Результат: 8, 7, 5, 3, 3, 2.\n",
    "Пользователь ввел число 1. Результат: 7, 5, 3, 3, 2, 1.\n",
    "Набор натуральных чисел можно задать непосредственно в коде, например, my_list = [7, 5, 3, 3, 2]."
   ]
  },
  {
   "cell_type": "code",
   "execution_count": 30,
   "metadata": {},
   "outputs": [
    {
     "name": "stdout",
     "output_type": "stream",
     "text": [
      "Введи новое число  3\n",
      "[7, 5, 3, 3, 3, 2]\n",
      "Введи новое число  2\n",
      "[7, 5, 3, 3, 3, 2, 2]\n",
      "Введи новое число  1\n",
      "[7, 5, 3, 3, 3, 2, 2, 1]\n",
      "Введи новое число  14\n",
      "[14, 7, 5, 3, 3, 3, 2, 2, 1]\n",
      "Введи новое число  3\n",
      "[14, 7, 5, 3, 3, 3, 3, 2, 2, 1]\n",
      "Введи новое число  5\n",
      "[14, 7, 5, 5, 3, 3, 3, 3, 2, 2, 1]\n",
      "Введи новое число  stop\n"
     ]
    }
   ],
   "source": [
    "my_list = [7, 5, 3, 3, 2]\n",
    "\n",
    "while 2>1:\n",
    "    i=input(\"Введи новое число  \")\n",
    "    if i ==\"stop\":\n",
    "        break\n",
    "    else:    \n",
    "        my_list.append(int(i))\n",
    "        my_list.sort(reverse=True)\n",
    "        print(my_list)"
   ]
  },
  {
   "cell_type": "code",
   "execution_count": null,
   "metadata": {},
   "outputs": [],
   "source": []
  }
 ],
 "metadata": {
  "kernelspec": {
   "display_name": "Python 3",
   "language": "python",
   "name": "python3"
  },
  "language_info": {
   "codemirror_mode": {
    "name": "ipython",
    "version": 3
   },
   "file_extension": ".py",
   "mimetype": "text/x-python",
   "name": "python",
   "nbconvert_exporter": "python",
   "pygments_lexer": "ipython3",
   "version": "3.8.3"
  }
 },
 "nbformat": 4,
 "nbformat_minor": 4
}
