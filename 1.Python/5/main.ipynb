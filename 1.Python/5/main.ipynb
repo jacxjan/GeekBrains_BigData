{
 "cells": [
  {
   "cell_type": "markdown",
   "metadata": {},
   "source": [
    "# 1. Создать программно файл в текстовом формате, записать в него построчно данные, вводимые пользователем. Об окончании ввода данных свидетельствует пустая строка."
   ]
  },
  {
   "cell_type": "code",
   "execution_count": 7,
   "metadata": {},
   "outputs": [
    {
     "name": "stdout",
     "output_type": "stream",
     "text": [
      "Введи строку dsf\n",
      "Введи строку sdfsd\n",
      "Введи строку aas\n",
      "Введи строку \n"
     ]
    }
   ],
   "source": [
    "out_f = open(\"C:\\\\Users\\\\jacxj\\\\Project_Python\\\\BigData\\\\1.Python\\\\5\\\\out_file.txt\", \"w\")\n",
    "while True:\n",
    "    s=input(\"Введи строку \")\n",
    "    if s==\"\":\n",
    "        break\n",
    "    out_f.writelines(s+\"\\n\")\n",
    "out_f.close()"
   ]
  },
  {
   "cell_type": "markdown",
   "metadata": {},
   "source": [
    "# 2. Создать текстовый файл (не программно), сохранить в нем несколько строк, выполнить подсчет количества строк, количества слов в каждой строке."
   ]
  },
  {
   "cell_type": "code",
   "execution_count": 9,
   "metadata": {},
   "outputs": [
    {
     "name": "stdout",
     "output_type": "stream",
     "text": [
      "В 1 строке 6 символов\n",
      "В 2 строке 6 символов\n",
      "В 3 строке 5 символов\n",
      "В 4 строке 1 символов\n",
      "В 5 строке 3 символов\n",
      "В 6 строке 4 символов\n",
      "В 7 строке 4 символов\n",
      "В 8 строке 2 символов\n",
      "В 9 строке 3 символов\n",
      "В 10 строке 3 символов\n",
      "В 11 строке 4 символов\n",
      "В 12 строке 2 символов\n",
      "В 13 строке 4 символов\n",
      "В 14 строке 3 символов\n",
      "В 15 строке 4 символов\n",
      "В 16 строке 6 символов\n"
     ]
    }
   ],
   "source": [
    "my_f = open(\"C:\\\\Users\\\\jacxj\\\\Project_Python\\\\BigData\\\\1.Python\\\\5\\\\in_file.txt\", \"r\")\n",
    "c=0\n",
    "for line in my_f:\n",
    "    c+=1\n",
    "    print(\"В \"+str(c)+\" строке \"+str(len(line))+\" символов\")\n",
    "my_f.close()"
   ]
  },
  {
   "cell_type": "markdown",
   "metadata": {},
   "source": [
    "# 3. Создать текстовый файл (не программно), построчно записать фамилии сотрудников и величину их окладов. Определить, кто из сотрудников имеет оклад менее 20 тыс., вывести фамилии этих сотрудников. Выполнить подсчет средней величины дохода сотрудников."
   ]
  },
  {
   "cell_type": "code",
   "execution_count": 17,
   "metadata": {},
   "outputs": [
    {
     "name": "stdout",
     "output_type": "stream",
     "text": [
      "Cтепанов\n",
      "Иванов\n",
      "Игорев\n",
      "Сычев\n",
      "Патрушев\n",
      "Навальный\n",
      "Среднее з/п : 3621909276.3235292\n"
     ]
    }
   ],
   "source": [
    "my_f = open(\"C:\\\\Users\\\\jacxj\\\\Project_Python\\\\BigData\\\\1.Python\\\\5\\\\in_file.txt\",encoding=\"utf8\")\n",
    "summ=0\n",
    "count=0\n",
    "for line in my_f:\n",
    "    if int(line.split(\" \")[1])>20000:\n",
    "        print(line.split(\" \")[0])\n",
    "    summ+=float(line.split(\" \")[1])\n",
    "    c+=1\n",
    "print(\"Среднее з/п : \"+str(summ/c))\n",
    "my_f.close()"
   ]
  },
  {
   "cell_type": "markdown",
   "metadata": {},
   "source": [
    "# 4. Создать (не программно) текстовый файл со следующим содержимым:\n",
    "One — 1\n",
    "Two — 2\n",
    "Three — 3\n",
    "Four — 4\n",
    "Необходимо написать программу, открывающую файл на чтение и считывающую построчно данные. При этом английские числительные должны заменяться на русские. Новый блок строк должен записываться в новый текстовый файл."
   ]
  },
  {
   "cell_type": "code",
   "execution_count": 40,
   "metadata": {},
   "outputs": [],
   "source": [
    "my_f = open(\"C:\\\\Users\\\\jacxj\\\\Project_Python\\\\BigData\\\\1.Python\\\\5\\\\in_int.txt\",\"r\")\n",
    "out_f = open(\"C:\\\\Users\\\\jacxj\\\\Project_Python\\\\BigData\\\\1.Python\\\\5\\\\out_file.txt\", \"w\")\n",
    "for line in my_f:\n",
    "    line=line.rstrip()\n",
    "    if line.split(\" - \")[1]==\"1\":\n",
    "        b=\"Один\"\n",
    "    if line.split(\" - \")[1]==\"2\":\n",
    "        b=\"Два\"\n",
    "    if line.split(\" - \")[1]==\"3\":\n",
    "        b=\"Три\"\n",
    "    if line.split(\" - \")[1]==\"4\":\n",
    "        b=\"Четыре\"\n",
    "    out_f.writelines(line.split(\" - \")[1]+\" - \"+b+\"\\n\")"
   ]
  },
  {
   "cell_type": "markdown",
   "metadata": {},
   "source": [
    "# 5. Создать (программно) текстовый файл, записать в него программно набор чисел, разделенных пробелами. Программа должна подсчитывать сумму чисел в файле и выводить ее на экран."
   ]
  },
  {
   "cell_type": "code",
   "execution_count": 5,
   "metadata": {},
   "outputs": [
    {
     "name": "stdout",
     "output_type": "stream",
     "text": [
      "239300.0\n"
     ]
    }
   ],
   "source": [
    "out_f = open(\"C:\\\\Users\\\\jacxj\\\\Project_Python\\\\BigData\\\\1.Python\\\\5\\\\out_file_5.txt\", \"w\")\n",
    "s=\"13 21312 213213 43 1232 3240 123 1 123 0\"\n",
    "out_f.writelines(s)\n",
    "out_f.close()\n",
    "my_f = open(\"C:\\\\Users\\\\jacxj\\\\Project_Python\\\\BigData\\\\1.Python\\\\5\\\\out_file_5.txt\", \"r\")\n",
    "summ=0\n",
    "for line in my_f:\n",
    "    for i in line.split(\" \"):\n",
    "        summ+=float(i)\n",
    "print(summ)\n",
    "my_f.close()"
   ]
  },
  {
   "cell_type": "markdown",
   "metadata": {},
   "source": [
    "# 6. Необходимо создать (не программно) текстовый файл, где каждая строка описывает учебный предмет и наличие лекционных, практических и лабораторных занятий по этому предмету и их количество. Важно, чтобы для каждого предмета не обязательно были все типы занятий. Сформировать словарь, содержащий название предмета и общее количество занятий по нему. Вывести словарь на экран.\n",
    "Примеры строк файла:\n",
    "Информатика: 100(л) 50(пр) 20(лаб).\n",
    "Физика: 30(л) — 10(лаб)\n",
    "Физкультура: — 30(пр) —\n",
    "\n",
    "Пример словаря:\n",
    "{“Информатика”: 170, “Физика”: 40, “Физкультура”: 30}"
   ]
  },
  {
   "cell_type": "code",
   "execution_count": null,
   "metadata": {},
   "outputs": [],
   "source": []
  },
  {
   "cell_type": "markdown",
   "metadata": {},
   "source": [
    "# 7. Создать (не программно) текстовый файл, в котором каждая строка должна содержать данные о фирме: название, форма собственности, выручка, издержки.\n",
    "Пример строки файла: firm_1 ООО 10000 5000.\n",
    "Необходимо построчно прочитать файл, вычислить прибыль каждой компании, а также среднюю прибыль. Если фирма получила убытки, в расчет средней прибыли ее не включать.\n",
    "Далее реализовать список. Он должен содержать словарь с фирмами и их прибылями, а также словарь со средней прибылью. Если фирма получила убытки, также добавить ее в словарь (со значением убытков).\n",
    "Пример списка: [{“firm_1”: 5000, “firm_2”: 3000, “firm_3”: 1000}, {“average_profit”: 2000}].\n",
    "Итоговый список сохранить в виде json-объекта в соответствующий файл.\n",
    "Пример json-объекта:\n",
    "[{\"firm_1\": 5000, \"firm_2\": 3000, \"firm_3\": 1000}, {\"average_profit\": 2000}]\n",
    "\n",
    "Подсказка: использовать менеджеры контекста."
   ]
  },
  {
   "cell_type": "code",
   "execution_count": 28,
   "metadata": {},
   "outputs": [],
   "source": [
    "import json\n",
    "srd=0\n",
    "c=0\n",
    "dct=dict()\n",
    "with open(\"C:\\\\Users\\\\jacxj\\\\Project_Python\\\\BigData\\\\1.Python\\\\5\\\\file_7.txt\",encoding=\"utf8\") as f_obj:\n",
    "    for line in f_obj:\n",
    "        line=line.rstrip()\n",
    "        line=line.split(\" \")\n",
    "        line[2]=float(line[2])\n",
    "        line[3]=float(line[3])\n",
    "        if (line[2]-line[3])>0:\n",
    "            srd+=(line[2]-line[3])\n",
    "            c+=1\n",
    "        dct[line[0]]=line[2]-line[3]\n",
    "    SPS=[dct,{\"average_profit\":float(srd/c)}]\n",
    "    json_str = json.dumps(SPS)\n",
    "out_f = open(\"C:\\\\Users\\\\jacxj\\\\Project_Python\\\\BigData\\\\1.Python\\\\5\\\\out_file_7.txt\", \"w\")\n",
    "out_f.write(json_str)\n",
    "out_f.close()"
   ]
  }
 ],
 "metadata": {
  "kernelspec": {
   "display_name": "Python 3",
   "language": "python",
   "name": "python3"
  },
  "language_info": {
   "codemirror_mode": {
    "name": "ipython",
    "version": 3
   },
   "file_extension": ".py",
   "mimetype": "text/x-python",
   "name": "python",
   "nbconvert_exporter": "python",
   "pygments_lexer": "ipython3",
   "version": "3.8.3"
  }
 },
 "nbformat": 4,
 "nbformat_minor": 4
}
