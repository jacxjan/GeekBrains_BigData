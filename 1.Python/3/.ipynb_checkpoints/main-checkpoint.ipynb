{
 "cells": [
  {
   "cell_type": "markdown",
   "metadata": {},
   "source": [
    "# 1. Реализовать функцию, принимающую два числа (позиционные аргументы) и выполняющую их деление. Числа запрашивать у пользователя, предусмотреть обработку ситуации деления на ноль."
   ]
  },
  {
   "cell_type": "code",
   "execution_count": 3,
   "metadata": {},
   "outputs": [],
   "source": [
    "def div (dl,dt):\n",
    "    try:\n",
    "        return dl/dt\n",
    "    except ZeroDivisionError:\n",
    "        print (\"divide by zero\")"
   ]
  },
  {
   "cell_type": "code",
   "execution_count": 9,
   "metadata": {},
   "outputs": [
    {
     "name": "stdout",
     "output_type": "stream",
     "text": [
      "Введи делимое   121\n",
      "Введи делитель   11\n"
     ]
    },
    {
     "data": {
      "text/plain": [
       "11.0"
      ]
     },
     "execution_count": 9,
     "metadata": {},
     "output_type": "execute_result"
    }
   ],
   "source": [
    "a=float(input(\"Введи делимое   \"))\n",
    "b=float(input(\"Введи делитель   \"))\n",
    "div(a,b)"
   ]
  },
  {
   "cell_type": "markdown",
   "metadata": {},
   "source": [
    "# 2. Реализовать функцию, принимающую несколько параметров, описывающих данные пользователя: имя, фамилия, год рождения, город проживания, email, телефон. Функция должна принимать параметры как именованные аргументы. Реализовать вывод данных о пользователе одной строкой."
   ]
  },
  {
   "cell_type": "code",
   "execution_count": 10,
   "metadata": {},
   "outputs": [],
   "source": [
    "def info_cl(name,sername,year,city,email,ani):\n",
    "    print(\"name: \"+name+\", sername: \"+sername+\", city: \"+city+\", email: \"+email+\", ani: \"+ani)"
   ]
  },
  {
   "cell_type": "code",
   "execution_count": 11,
   "metadata": {},
   "outputs": [
    {
     "name": "stdout",
     "output_type": "stream",
     "text": [
      "name: jonny, sername: depp, city: LA, email: jd19683, ani: 88005353535\n"
     ]
    }
   ],
   "source": [
    "info_cl(name=\"jonny\",sername=\"depp\",year=\"1970\",city=\"LA\",email=\"jd19683\",ani=\"88005353535\")"
   ]
  },
  {
   "cell_type": "markdown",
   "metadata": {},
   "source": [
    "# 3. Реализовать функцию my_func(), которая принимает три позиционных аргумента, и возвращает сумму наибольших двух аргументов."
   ]
  },
  {
   "cell_type": "code",
   "execution_count": 19,
   "metadata": {},
   "outputs": [
    {
     "data": {
      "text/plain": [
       "5"
      ]
     },
     "execution_count": 19,
     "metadata": {},
     "output_type": "execute_result"
    }
   ],
   "source": [
    "def my_func(arg1,arg2,arg3):\n",
    "    mylist=[arg1,arg2,arg3]\n",
    "    mylist.sort(reverse=True)\n",
    "    return mylist[0]+mylist[1]\n",
    "my_func(1,2,3)"
   ]
  },
  {
   "cell_type": "markdown",
   "metadata": {},
   "source": [
    "# 4. Программа принимает действительное положительное число x и целое отрицательное число y. Необходимо выполнить возведение числа x в степень y. Задание необходимо реализовать в виде функции my_func(x, y). При решении задания необходимо обойтись без встроенной функции возведения числа в степень.\n",
    "Подсказка: попробуйте решить задачу двумя способами. Первый — возведение в степень с помощью оператора **. Второй — более сложная реализация без оператора **, предусматривающая использование цикла."
   ]
  },
  {
   "cell_type": "code",
   "execution_count": 86,
   "metadata": {},
   "outputs": [],
   "source": [
    "def my_func_1(x,y):\n",
    "    y=abs(y)\n",
    "    mn=1\n",
    "    for i in range(y):\n",
    "       # print(mn,i)\n",
    "        mn*=x\n",
    "    return (1/mn)"
   ]
  },
  {
   "cell_type": "code",
   "execution_count": 87,
   "metadata": {},
   "outputs": [],
   "source": [
    "def my_func_2(x,y):\n",
    "    return (x**y)"
   ]
  },
  {
   "cell_type": "code",
   "execution_count": 90,
   "metadata": {},
   "outputs": [
    {
     "name": "stdout",
     "output_type": "stream",
     "text": [
      "3.725290298461914e-09 3.725290298461914e-09\n"
     ]
    }
   ],
   "source": [
    "print(my_func_1(16,-7),my_func_2(16,-7))"
   ]
  },
  {
   "cell_type": "markdown",
   "metadata": {},
   "source": [
    "# 5. Программа запрашивает у пользователя строку чисел, разделенных пробелом. При нажатии Enter должна выводиться сумма чисел. Пользователь может продолжить ввод чисел, разделенных пробелом и снова нажать Enter. Сумма вновь введенных чисел будет добавляться к уже подсчитанной сумме. Но если вместо числа вводится специальный символ, выполнение программы завершается. Если специальный символ введен после нескольких чисел, то вначале нужно добавить сумму этих чисел к полученной ранее сумме и после этого завершить программу."
   ]
  },
  {
   "cell_type": "code",
   "execution_count": 104,
   "metadata": {},
   "outputs": [
    {
     "name": "stdout",
     "output_type": "stream",
     "text": [
      "Введи строку 23434 4324 324\n",
      "28082.0\n",
      "Введи строку 3423423\n",
      "3451505.0\n",
      "Введи строку 2343243242 5455465 \n",
      "2352150212.0\n",
      "Введи строку 23543543 \n",
      "2375693755.0\n",
      "Введи строку 234 43 4 45454 спец.символ 32423545\n",
      "2375739490.0\n"
     ]
    }
   ],
   "source": [
    "summ=0\n",
    "while 2>1:\n",
    "    ss=input(\"Введи строку \")\n",
    "    ss=ss.split(\" \")\n",
    "    for i in ss:\n",
    "        try:\n",
    "            summ+=float(i)\n",
    "        except: \n",
    "            break\n",
    "    print(summ)\n",
    "    if \"спец.символ\" in ss:\n",
    "        break"
   ]
  },
  {
   "cell_type": "markdown",
   "metadata": {},
   "source": [
    "# 6. Реализовать функцию int_func(), принимающую слово из маленьких латинских букв и возвращающую его же, но с прописной первой буквой. Например, print(int_func(‘text’)) -> Text.\n",
    "Продолжить работу над заданием. В программу должна попадать строка из слов, разделенных пробелом. Каждое слово состоит из латинских букв в нижнем регистре. Сделать вывод исходной строки, но каждое слово должно начинаться с заглавной буквы. Необходимо использовать написанную ранее функцию int_func()."
   ]
  },
  {
   "cell_type": "code",
   "execution_count": 107,
   "metadata": {},
   "outputs": [],
   "source": [
    "def int_func(x):\n",
    "    return x.title()"
   ]
  },
  {
   "cell_type": "code",
   "execution_count": 124,
   "metadata": {},
   "outputs": [
    {
     "name": "stdout",
     "output_type": "stream",
     "text": [
      "Введи строку wfds gfd 3423 \n",
      "Wfds Gfd 3423 \n"
     ]
    }
   ],
   "source": [
    "ss=input(\"Введи строку \")\n",
    "s=int_func(ss.split(\" \")[0])\n",
    "for i in ss.split(\" \")[1:]:\n",
    "    s=s+\" \"+int_func(i)\n",
    "print(s)"
   ]
  },
  {
   "cell_type": "code",
   "execution_count": null,
   "metadata": {},
   "outputs": [],
   "source": []
  }
 ],
 "metadata": {
  "kernelspec": {
   "display_name": "Python 3",
   "language": "python",
   "name": "python3"
  },
  "language_info": {
   "codemirror_mode": {
    "name": "ipython",
    "version": 3
   },
   "file_extension": ".py",
   "mimetype": "text/x-python",
   "name": "python",
   "nbconvert_exporter": "python",
   "pygments_lexer": "ipython3",
   "version": "3.8.3"
  }
 },
 "nbformat": 4,
 "nbformat_minor": 4
}
